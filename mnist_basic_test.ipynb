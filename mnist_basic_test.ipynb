{
 "cells": [
  {
   "cell_type": "code",
   "execution_count": 1,
   "metadata": {},
   "outputs": [
    {
     "name": "stderr",
     "output_type": "stream",
     "text": [
      "Using TensorFlow backend.\n"
     ]
    }
   ],
   "source": [
    "%run mnist_basic_data.ipynb\n",
    "%run mnist_basic_model.ipynb"
   ]
  },
  {
   "cell_type": "code",
   "execution_count": 2,
   "metadata": {},
   "outputs": [],
   "source": [
    "from keras.models import load_model\n",
    "from matplotlib import patches\n",
    "import numpy as np"
   ]
  },
  {
   "cell_type": "code",
   "execution_count": 3,
   "metadata": {},
   "outputs": [],
   "source": [
    "def transform_coord(coord, cell):\n",
    "    cy = cell // GRID_SIZE\n",
    "    cx = cell % GRID_SIZE\n",
    "    w = coord[12] * screen[0]\n",
    "    h = coord[13] * screen[1]\n",
    "    x = (coord[10] + cx)*(screen[0] / GRID_SIZE ) - (w/2)\n",
    "    y = (coord[11] + cy)*(screen[1] / GRID_SIZE ) - (h/2)\n",
    "    return (x, y), w, h"
   ]
  },
  {
   "cell_type": "code",
   "execution_count": 68,
   "metadata": {},
   "outputs": [],
   "source": [
    "def plot_results(batch_, pred):\n",
    "    fig, axList = plt.subplots(2,4)\n",
    "    fig.set_size_inches(12,8)\n",
    "    \n",
    "    batch = [0, 1]\n",
    "    batch[0] = batch_[0]\n",
    "    batch[1] = batch_[1].reshape(-1, GRID_SIZE * GRID_SIZE, 15)\n",
    "    pred = pred.reshape(-1, GRID_SIZE * GRID_SIZE, 15)\n",
    "    \n",
    "    for i, ax in enumerate(axList.flatten()):\n",
    "        ax.set_axis_off()\n",
    "        ax.imshow(batch[0][i].reshape(86,86), cmap='gray')\n",
    "        \n",
    "        conf = pred[i][..., 14]\n",
    "        sorted_ind = conf.argsort()\n",
    "        top3_ind = sorted_ind[-3:]\n",
    "        \n",
    "#         title = ''\n",
    "        for j in top3_ind:\n",
    "#             title += str(pred[i][j][:10].argmax()) +':- '+ str(pred[i][j][:10].max() * pred[i][j][-1]) + ' ' if batch[1][i][j][:10].argmax() != pred[i][j][:10].argmax() else str('ok ')\n",
    "            \n",
    "            c1, c2, c3 = transform_coord(pred[i][j], j)\n",
    "            rec = patches.Rectangle(c1, c2, c3, edgecolor='r', fill=False, linewidth=1)\n",
    "            ax.add_patch(rec)\n",
    "            ax.text(c1[0], c1[1]+6, str(pred[i][j][:10].argmax(axis=-1)), color='c', fontsize=12)\n",
    "        \n",
    "#         ax.set_title(title)\n",
    "        true_conf = batch[1][i][..., 14]\n",
    "        sorted_ind = true_conf.argsort()\n",
    "        top3_ind = sorted_ind[-3:]\n",
    "        \n",
    "        for j in top3_ind:\n",
    "            c1, c2, c3 = transform_coord(batch[1][i][j], j)\n",
    "            rec = patches.Rectangle(c1, c2, c3, edgecolor='g', fill=False, linewidth=1)\n",
    "            ax.add_patch(rec)"
   ]
  },
  {
   "cell_type": "code",
   "execution_count": 5,
   "metadata": {},
   "outputs": [],
   "source": [
    "train, val, test = load_data()\n",
    "x_test, y_test = test\n",
    "\n",
    "test_gen = DataGenerator(x_test, y_test, batch_size=8)\n",
    "\n",
    "model = load_model('mnist_basic_yolo.h5', compile=False)"
   ]
  },
  {
   "cell_type": "code",
   "execution_count": 6,
   "metadata": {},
   "outputs": [],
   "source": [
    "model.compile('Adam', custom_loss, ['accuracy'])"
   ]
  },
  {
   "cell_type": "code",
   "execution_count": 70,
   "metadata": {},
   "outputs": [],
   "source": [
    "batch = test_gen.gen_batch()\n",
    "pred = model.predict(batch[0])"
   ]
  },
  {
   "cell_type": "code",
   "execution_count": 71,
   "metadata": {},
   "outputs": [
    {
     "data": {
      "image/png": "[encoded data removed]",
      "text/plain": [
       "<matplotlib.figure.Figure at 0x7fd38a779c50>"
      ]
     },
     "metadata": {},
     "output_type": "display_data"
    }
   ],
   "source": [
    "plot_results(batch, pred)"
   ]
  },
  {
   "cell_type": "markdown",
   "metadata": {},
   "source": [
    "## Failures:\n",
    "\n",
    "### Data Generation: Images\n",
    "Couldn't find a way to remove black background in mnist images in PIL.\n",
    "So, instead just used an np array.\n",
    "\n",
    "### Data Generation: BBox\n",
    "True Bounding boxes were totally incorrect because of confusing x-y axes and [y][x] indices\n",
    "\n",
    "### Data Generation: BBox\n",
    "Prediction were totally incorrect because each cell in the grid was predicting coordinates w.r.t to top-left corner of the image.\n",
    "\n",
    "### Finally\n",
    "By making coordinates inside a cell relative to top-left corner of each cell, results became appreciable. But mostly all predicted boxes are larger.\n",
    "\n",
    "#### Still not using correct loss function, nor using multiple anchor boxes & non-max suppression\n",
    "#### Don't know how to calculate mAP or any other metric (COCO).\n",
    "#### Take a look at Focal Loss, Congenerous Cosine Loss, etc.\n",
    "#### Try VAE for classification by reconstructing input and using sampled vector for classification"
   ]
  },
  {
   "cell_type": "code",
   "execution_count": null,
   "metadata": {},
   "outputs": [],
   "source": []
  }
 ],
 "metadata": {
  "kernelspec": {
   "display_name": "Tf2",
   "language": "python",
   "name": "python3"
  },
  "language_info": {
   "codemirror_mode": {
    "name": "ipython",
    "version": 3
   },
   "file_extension": ".py",
   "mimetype": "text/x-python",
   "name": "python",
   "nbconvert_exporter": "python",
   "pygments_lexer": "ipython3",
   "version": "3.5.5"
  }
 },
 "nbformat": 4,
 "nbformat_minor": 2
}
