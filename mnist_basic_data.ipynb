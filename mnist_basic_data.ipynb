{
 "cells": [
  {
   "cell_type": "code",
   "execution_count": 6,
   "metadata": {},
   "outputs": [],
   "source": [
    "import PIL\n",
    "from PIL import Image\n",
    "import matplotlib.pyplot as plt\n",
    "import numpy as np\n",
    "import gzip, pickle\n",
    "from sklearn.preprocessing import OneHotEncoder"
   ]
  },
  {
   "cell_type": "code",
   "execution_count": 5,
   "metadata": {},
   "outputs": [],
   "source": [
    "%matplotlib inline"
   ]
  },
  {
   "cell_type": "code",
   "execution_count": 23,
   "metadata": {},
   "outputs": [],
   "source": [
    "def load_data():\n",
    "    with gzip.open('/home/aaditya/.keras/datasets/mnist.pkl.gz', 'rb') as f:\n",
    "        train_set, valid_set, test_set = pickle.load(f, encoding='latin1')\n",
    "    x_train, y_train = train_set\n",
    "    x_val, y_val = valid_set\n",
    "    x_test, y_test = test_set\n",
    "\n",
    "    x_train = np.array(x_train, dtype='float32').reshape(-1,28,28)\n",
    "    x_val = np.array(x_val, dtype='float32').reshape(-1,28,28)\n",
    "    x_test = np.array(x_test, dtype='float32').reshape(-1,28,28)\n",
    "\n",
    "    y_train = OneHotEncoder(dtype=np.float32, sparse=False).fit_transform(y_train.reshape(-1,1))\n",
    "    y_val = OneHotEncoder(dtype=np.float32, sparse=False).fit_transform(y_val.reshape(-1,1))\n",
    "    y_test = OneHotEncoder(dtype=np.float32, sparse=False).fit_transform(y_test.reshape(-1,1))\n",
    "    \n",
    "    return (x_train, y_train), (x_val, y_val), (x_test, y_test)"
   ]
  },
  {
   "cell_type": "markdown",
   "metadata": {},
   "source": [
    "def convert(size, box):\n",
    "    dw = 1./size[0]\n",
    "    dh = 1./size[1]\n",
    "    x = (box[0] + box[1])/2.0\n",
    "    y = (box[2] + box[3])/2.0\n",
    "    w = box[1] - box[0]\n",
    "    h = box[3] - box[2]\n",
    "    x = x*dw\n",
    "    w = w*dw\n",
    "    y = y*dh\n",
    "    h = h*dh\n",
    "    return (x,y,w,h)"
   ]
  },
  {
   "cell_type": "code",
   "execution_count": 24,
   "metadata": {},
   "outputs": [],
   "source": [
    "screen = (86,86)\n",
    "GRID_SIZE = 4\n",
    "CLASSES = 10"
   ]
  },
  {
   "cell_type": "code",
   "execution_count": 1,
   "metadata": {},
   "outputs": [],
   "source": [
    "def create_img(data_array, label_array):\n",
    "#     img = Image.new('F', screen)\n",
    "    img = np.zeros(screen, dtype='float32')\n",
    "\n",
    "    mnist_imgs = [Image.fromarray(d*255) for d in data_array]\n",
    "    # mnist_img = mnist_img.crop((2,2,26,26))\n",
    "\n",
    "    w_list = [ int(round(28 * np.random.triangular(0.5, 0.5, 1.5))) for i in range(3)]\n",
    "    mnist_imgs = [np.array(x.resize((w,w), Image.BICUBIC), dtype='float32')/255 for x,w in zip(mnist_imgs, w_list)]\n",
    "\n",
    "    x_list = [np.random.randint(0, screen[0]-w) for i, w in enumerate(w_list)]\n",
    "    y_list = [np.random.randint(0, screen[1]-w) for i, w in enumerate(w_list)]\n",
    "    for mimg, x, y, w in zip(mnist_imgs, x_list, y_list, w_list):\n",
    "        img[y:y+w, x:x+w] += mimg\n",
    "    \n",
    "    img = img.clip(0,1).reshape(screen[0],screen[1],1)\n",
    "    \n",
    "    grid_x = screen[0]/GRID_SIZE\n",
    "    grid_y = screen[1]/GRID_SIZE\n",
    "    dw = 1./screen[0]\n",
    "    for i, w in enumerate(w_list):\n",
    "        x_list[i] += w/2\n",
    "        y_list[i] += w/2\n",
    "        w_list[i] *= dw\n",
    "    dx = screen[0]/GRID_SIZE\n",
    "    dy = screen[1]/GRID_SIZE\n",
    "    \n",
    "    trg = np.zeros((GRID_SIZE,GRID_SIZE,CLASSES+5), dtype='float32')\n",
    "    for x, y, w, i in zip(x_list, y_list, w_list, range(3)):\n",
    "        trg[ int(y//dy) ][ int(x//dx) ][:10] = label_array[i]\n",
    "        trg[ int(y//dy) ][ int(x//dx) ][10:] = [(x / grid_x) - (x // grid_x), (y / grid_y) - (y // grid_y), w, w, 1]\n",
    "    \n",
    "    return img, trg"
   ]
  },
  {
   "cell_type": "code",
   "execution_count": 94,
   "metadata": {},
   "outputs": [],
   "source": [
    "class DataGenerator():\n",
    "    def __init__(self, data_array, label_array, batch_size=32):\n",
    "        self.array = data_array\n",
    "        self.label_array = label_array\n",
    "        self.batch_size = batch_size\n",
    "        \n",
    "    def gen_batch(self):\n",
    "        img_batch = []; trg_batch = []\n",
    "#         idx = [np.random.randint(0, len(self.array)-self.batch_size) for i in range(self.batch_size)]\n",
    "        for i in range(self.batch_size):\n",
    "            idx = [np.random.randint(0, len(self.array)-self.batch_size) for i in range(3)]\n",
    "            img, trg = create_img(self.array[idx], self.label_array[idx])\n",
    "            img_batch.append(img); trg_batch.append(trg)\n",
    "        return np.stack(img_batch), np.stack(trg_batch)\n",
    "    \n",
    "    def flow(self):\n",
    "        while True:\n",
    "            yield self.gen_batch()"
   ]
  },
  {
   "cell_type": "markdown",
   "metadata": {},
   "source": [
    "a = DataGenerator(x_train, y_train).gen_batch()"
   ]
  },
  {
   "cell_type": "markdown",
   "metadata": {},
   "source": [
    "i=0"
   ]
  },
  {
   "cell_type": "markdown",
   "metadata": {},
   "source": [
    "plt.imshow(a[0][i].reshape(86,86), cmap='gray'); i+=1"
   ]
  },
  {
   "cell_type": "markdown",
   "metadata": {},
   "source": [
    "a[1][i-1]"
   ]
  },
  {
   "cell_type": "markdown",
   "metadata": {},
   "source": [
    "t, v, tt = load_data()\n",
    "x_train, y_train = t"
   ]
  },
  {
   "cell_type": "markdown",
   "metadata": {},
   "source": [
    "a[0].shape"
   ]
  }
 ],
 "metadata": {
  "kernelspec": {
   "display_name": "Tf2",
   "language": "python",
   "name": "python3"
  },
  "language_info": {
   "codemirror_mode": {
    "name": "ipython",
    "version": 3
   },
   "file_extension": ".py",
   "mimetype": "text/x-python",
   "name": "python",
   "nbconvert_exporter": "python",
   "pygments_lexer": "ipython3",
   "version": "3.5.5"
  }
 },
 "nbformat": 4,
 "nbformat_minor": 2
}
