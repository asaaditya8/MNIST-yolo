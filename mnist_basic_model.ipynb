{
 "cells": [
  {
   "cell_type": "code",
   "execution_count": 1,
   "metadata": {},
   "outputs": [],
   "source": [
    "import keras\n",
    "from keras.layers import *\n",
    "from keras.models import Model\n",
    "from keras.models import load_model\n",
    "import keras.backend as K\n",
    "import tensorflow as tf\n",
    "import numpy as np"
   ]
  },
  {
   "cell_type": "code",
   "execution_count": 2,
   "metadata": {},
   "outputs": [],
   "source": [
    "def limit_mem():\n",
    "    cfg = K.tf.ConfigProto()\n",
    "    cfg.gpu_options.allow_growth = True\n",
    "    K.set_session(K.tf.Session(config=cfg))\n",
    "\n",
    "limit_mem()"
   ]
  },
  {
   "cell_type": "code",
   "execution_count": 3,
   "metadata": {},
   "outputs": [],
   "source": [
    "def conv(ip, f, k=1, s=1, pad='same', d=1, use_bias=False):\n",
    "    x = SeparableConv2D(f, k, strides=s, padding=pad, depth_multiplier=d, use_bias=use_bias)(ip)\n",
    "    x = BatchNormalization()(x)\n",
    "    x = ELU()(x)\n",
    "    return x"
   ]
  },
  {
   "cell_type": "code",
   "execution_count": 4,
   "metadata": {},
   "outputs": [],
   "source": [
    "def rconv(ip, f, k=1, s=1, pad='same', use_bias=False):\n",
    "    x = Conv2D(f, k, strides=s, padding=pad, use_bias=use_bias)(ip)\n",
    "    x = BatchNormalization()(x)\n",
    "    x = ELU()(x)\n",
    "    return x"
   ]
  },
  {
   "cell_type": "code",
   "execution_count": 16,
   "metadata": {},
   "outputs": [],
   "source": [
    "ip_shp = (86,86, 1)\n",
    "\n",
    "LABELS = list(range(10))\n",
    "\n",
    "IMAGE_H, IMAGE_W = 86, 86\n",
    "# GRID_H,  GRID_W  = 3 , 3\n",
    "BOX              = 1\n",
    "# CLASS            = len(LABELS)\n",
    "# CLASS_WEIGHTS    = np.ones(CLASS, dtype='float32')\n",
    "OBJ_THRESHOLD    = 0.3#0.5\n",
    "NMS_THRESHOLD    = 0.3#0.45\n",
    "# ANCHORS          = [0.57273, 0.677385, 1.87446, 2.06253, 3.33843, 5.47434, 7.88282, 3.52778, 9.77052, 9.16828]\n",
    "\n",
    "NO_OBJECT_SCALE  = 1.0\n",
    "OBJECT_SCALE     = 5.0\n",
    "COORD_SCALE      = 1.0\n",
    "CLASS_SCALE      = 1.0\n",
    "\n",
    "BATCH_SIZE       = 16\n",
    "WARM_UP_BATCHES  = 0\n",
    "TRUE_BOX_BUFFER  = 50"
   ]
  },
  {
   "cell_type": "code",
   "execution_count": 6,
   "metadata": {},
   "outputs": [],
   "source": [
    "def create_base_model():\n",
    "    ip = Input(ip_shp)\n",
    "\n",
    "    x = rconv(ip, 16, k=3)\n",
    "    x = rconv(x, 16, k=3)\n",
    "    x = rconv(x, 16, k=3)\n",
    "    x = rconv(x, 16, k=3, s=2, pad='valid')\n",
    "\n",
    "    x = conv(x, 64, k=3)\n",
    "    x = conv(x, 64, k=3)\n",
    "    x = conv(x, 64, k=3)\n",
    "    x = conv(x, 64, k=3, s=2, pad='valid')\n",
    "\n",
    "    x = conv(x, 128, k=3)\n",
    "    x = conv(x, 128, k=3)\n",
    "    x = conv(x, 128, k=3)\n",
    "    x = conv(x, 128, k=3, s=2, pad='valid')\n",
    "\n",
    "    x = conv(x, 256, k=3)\n",
    "    x = conv(x, 256, k=3)\n",
    "    x = conv(x, 256, k=3)\n",
    "    x = conv(x, 256, k=3, s=2, pad='valid')\n",
    "\n",
    "    x = conv(x, 256, k=3)\n",
    "    x = conv(x, 256, k=3)\n",
    "    x = conv(x, 256, k=3)\n",
    "    x = conv(x, 13, k=3)\n",
    "    x = Conv2D(13, 3, strides=1, padding='valid', use_bias=True)(x)\n",
    "    x = GlobalAveragePooling2D()(x)\n",
    "    x = Activation('sigmoid')(x)\n",
    "\n",
    "    return Model(ip, x)"
   ]
  },
  {
   "cell_type": "markdown",
   "metadata": {},
   "source": [
    "model.summary()"
   ]
  },
  {
   "cell_type": "code",
   "execution_count": 14,
   "metadata": {},
   "outputs": [],
   "source": [
    "def create_model():\n",
    "    m = load_model('../mnist_basic_detection/mnist_basic_detection.h5')\n",
    "\n",
    "    ip = m.input\n",
    "    x = m.get_layer('elu_16').output\n",
    "    base = Model(ip, x, name='Pre-trained_Base_Model')\n",
    "\n",
    "    ip = Input(ip_shp)\n",
    "    x = base(ip)\n",
    "    x = conv(x, 256, k=3)\n",
    "    x = conv(x, 256, k=3)\n",
    "    x = conv(x, 256, k=3)\n",
    "    x = conv(x, 15, k=3)\n",
    "    x = Conv2D(15, 3, padding='same', use_bias=True)(x)\n",
    "    x = Activation('sigmoid')(x)\n",
    "    return Model(ip, x)"
   ]
  },
  {
   "cell_type": "code",
   "execution_count": null,
   "metadata": {},
   "outputs": [],
   "source": [
    "def custom_loss(y_true, y_pred):\n",
    "    true_xy = y_true[..., 10:12]\n",
    "    true_wh = y_true[..., 12:14]\n",
    "    \n",
    "    true_wh_half = true_wh / 2.\n",
    "    true_mins    = true_xy - true_wh_half\n",
    "    true_maxes   = true_xy + true_wh_half\n",
    "    \n",
    "    pred_xy = y_pred[..., 10:12]\n",
    "    pred_wh = y_pred[..., 12:14]\n",
    "    \n",
    "    pred_wh_half = pred_wh / 2.\n",
    "    pred_mins    = pred_xy - pred_wh_half\n",
    "    pred_maxes   = pred_xy + pred_wh_half    \n",
    "    \n",
    "    intersect_mins  = tf.maximum(pred_mins,  true_mins)\n",
    "    intersect_maxes = tf.minimum(pred_maxes, true_maxes)\n",
    "    intersect_wh    = tf.maximum(intersect_maxes - intersect_mins, 0.)\n",
    "    intersect_areas = intersect_wh[..., 0] * intersect_wh[..., 1]\n",
    "    \n",
    "    true_areas = true_wh[..., 0] * true_wh[..., 1]\n",
    "    pred_areas = pred_wh[..., 0] * pred_wh[..., 1]\n",
    "\n",
    "    union_areas = pred_areas + true_areas - intersect_areas\n",
    "    iou_scores  = tf.truediv(intersect_areas, union_areas)\n",
    "    \n",
    "    tf.multiply(y_true[..., 14], iou_scores)\n",
    "    \n",
    "    return K.mean(K.binary_crossentropy(y_true, y_pred), axis=-1)"
   ]
  }
 ],
 "metadata": {
  "kernelspec": {
   "display_name": "Tf2",
   "language": "python",
   "name": "python3"
  },
  "language_info": {
   "codemirror_mode": {
    "name": "ipython",
    "version": 3
   },
   "file_extension": ".py",
   "mimetype": "text/x-python",
   "name": "python",
   "nbconvert_exporter": "python",
   "pygments_lexer": "ipython3",
   "version": "3.5.5"
  }
 },
 "nbformat": 4,
 "nbformat_minor": 2
}
